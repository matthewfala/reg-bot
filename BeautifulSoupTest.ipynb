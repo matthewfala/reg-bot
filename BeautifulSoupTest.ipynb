{
 "cells": [
  {
   "cell_type": "code",
   "execution_count": 1,
   "metadata": {},
   "outputs": [],
   "source": [
    "# Beautiful Soup Tests"
   ]
  },
  {
   "cell_type": "code",
   "execution_count": 2,
   "metadata": {},
   "outputs": [],
   "source": [
    "from bs4 import BeautifulSoup\n",
    "import requests"
   ]
  },
  {
   "cell_type": "code",
   "execution_count": 23,
   "metadata": {},
   "outputs": [
    {
     "name": "stdout",
     "output_type": "stream",
     "text": [
      "hi\n",
      "/idp/style/login.css\n",
      "{'rel': ['stylesheet'], 'type': 'text/css', 'href': '/idp/style/login.css'}\n",
      "[<a href=\"tel:+1-213-740-5555\">213‑740‑5555</a>, <a href=\"mailto:consult@usc.edu\">consult@usc.edu</a>]\n"
     ]
    },
    {
     "name": "stderr",
     "output_type": "stream",
     "text": [
      "C:\\ProgramData\\Anaconda3\\lib\\site-packages\\bs4\\__init__.py:181: UserWarning: No parser was explicitly specified, so I'm using the best available HTML parser for this system (\"lxml\"). This usually isn't a problem, but if you run this code on another system, or in a different virtual environment, it may use a different parser and behave differently.\n",
      "\n",
      "The code that caused this warning is on line 193 of the file C:\\ProgramData\\Anaconda3\\lib\\runpy.py. To get rid of this warning, change code that looks like this:\n",
      "\n",
      " BeautifulSoup(YOUR_MARKUP})\n",
      "\n",
      "to this:\n",
      "\n",
      " BeautifulSoup(YOUR_MARKUP, \"lxml\")\n",
      "\n",
      "  markup_type=markup_type))\n"
     ]
    }
   ],
   "source": [
    "s = requests.Session()\n",
    "page = s.get('https://my.usc.edu/')\n",
    "\n",
    "myusc = BeautifulSoup(page.content)\n",
    "head = myusc.head\n",
    "link = head.link\n",
    "print(\"hi\")\n",
    "print(link[\"href\"])\n",
    "print(link.attrs)\n",
    "print(myusc.find_all('a'))"
   ]
  },
  {
   "cell_type": "code",
   "execution_count": 44,
   "metadata": {},
   "outputs": [
    {
     "name": "stdout",
     "output_type": "stream",
     "text": [
      "\n",
      "\n",
      "#####################################\n",
      "<meta charset=\"utf-8\"/>\n",
      "#####################################\n",
      "\n",
      "\n",
      "#####################################\n",
      "<meta content=\"width=device-width, initial-scale=1\" name=\"viewport\"/>\n",
      "#####################################\n",
      "\n",
      "\n",
      "#####################################\n",
      "<title>USC Shibboleth Single Sign-on - Loading Session State...</title>\n",
      "#####################################\n",
      "USC Shibboleth Single Sign-on - Loading Session State...\n",
      "#####################################\n",
      "\n",
      "\n",
      "#####################################\n",
      "[if lt IE 10]>\n",
      "\t <link rel=\"stylesheet\" media=\"all\" href=\"/idp/style/ie.css\">\n",
      "<![endif]\n",
      "#####################################\n",
      "\n",
      "\n",
      "#####################################\n",
      "<link href=\"/idp/style/login.css\" rel=\"stylesheet\" type=\"text/css\"/>\n",
      "#####################################\n",
      "\n",
      "\n",
      "#####################################\n",
      "<script>\n",
      "        <!--\n",
      "        \"use strict\";\n",
      "function readLocalStorage(key) {\n",
      "    var success;\n",
      "    try {\n",
      "        var value = localStorage.getItem(key);\n",
      "        if (value != null) {\n",
      "            document.form1[\"shib_idp_ls_value.\" + key].value = value;\n",
      "        }\n",
      "        success = \"true\";\n",
      "    } catch (e) {\n",
      "        success = \"false\";\n",
      "        document.form1[\"shib_idp_ls_exception.\" + key].value = e;\n",
      "    }\n",
      "    document.form1[\"shib_idp_ls_success.\" + key].value = success;\n",
      "}\n",
      "\n",
      "function isLocalStorageSupported() {\n",
      "    try {\n",
      "        localStorage.setItem(\"shib_idp_ls_test\", \"shib_idp_ls_test\");\n",
      "        localStorage.removeItem(\"shib_idp_ls_test\");\n",
      "        return true;\n",
      "    } catch (e) {\n",
      "        return false;\n",
      "    }\n",
      "}\n",
      "\n",
      "        function doLoad() {\n",
      "            var localStorageSupported = isLocalStorageSupported();\n",
      "            document.form1[\"shib_idp_ls_supported\"].value = localStorageSupported;\n",
      "            if (localStorageSupported) {\n",
      "                            readLocalStorage(\"shib_idp_session_ss\");\n",
      "                            readLocalStorage(\"shib_idp_persistent_ss\");\n",
      "                        }\n",
      "            document.form1.submit();\n",
      "        }\n",
      "        // -->\n",
      "        </script>\n",
      "#####################################\n",
      "\n",
      "        <!--\n",
      "        \"use strict\";\n",
      "function readLocalStorage(key) {\n",
      "    var success;\n",
      "    try {\n",
      "        var value = localStorage.getItem(key);\n",
      "        if (value != null) {\n",
      "            document.form1[\"shib_idp_ls_value.\" + key].value = value;\n",
      "        }\n",
      "        success = \"true\";\n",
      "    } catch (e) {\n",
      "        success = \"false\";\n",
      "        document.form1[\"shib_idp_ls_exception.\" + key].value = e;\n",
      "    }\n",
      "    document.form1[\"shib_idp_ls_success.\" + key].value = success;\n",
      "}\n",
      "\n",
      "function isLocalStorageSupported() {\n",
      "    try {\n",
      "        localStorage.setItem(\"shib_idp_ls_test\", \"shib_idp_ls_test\");\n",
      "        localStorage.removeItem(\"shib_idp_ls_test\");\n",
      "        return true;\n",
      "    } catch (e) {\n",
      "        return false;\n",
      "    }\n",
      "}\n",
      "\n",
      "        function doLoad() {\n",
      "            var localStorageSupported = isLocalStorageSupported();\n",
      "            document.form1[\"shib_idp_ls_supported\"].value = localStorageSupported;\n",
      "            if (localStorageSupported) {\n",
      "                            readLocalStorage(\"shib_idp_session_ss\");\n",
      "                            readLocalStorage(\"shib_idp_persistent_ss\");\n",
      "                        }\n",
      "            document.form1.submit();\n",
      "        }\n",
      "        // -->\n",
      "        \n",
      "#####################################\n",
      "\n",
      "\n",
      "#####################################\n",
      "15\n"
     ]
    }
   ],
   "source": [
    "x = 0\n",
    "for child in myusc.head.descendants:\n",
    "    print(child)\n",
    "    print(\"#####################################\")\n",
    "    x=x+1;\n",
    "    if x == 0:\n",
    "        y = 1\n",
    "        \n",
    "        #print(child)\n",
    "        \n",
    "    \n",
    "print(x)"
   ]
  },
  {
   "cell_type": "code",
   "execution_count": null,
   "metadata": {},
   "outputs": [],
   "source": []
  },
  {
   "cell_type": "code",
   "execution_count": null,
   "metadata": {},
   "outputs": [],
   "source": []
  },
  {
   "cell_type": "code",
   "execution_count": null,
   "metadata": {},
   "outputs": [],
   "source": []
  }
 ],
 "metadata": {
  "kernelspec": {
   "display_name": "Python [default]",
   "language": "python",
   "name": "python3"
  },
  "language_info": {
   "codemirror_mode": {
    "name": "ipython",
    "version": 3
   },
   "file_extension": ".py",
   "mimetype": "text/x-python",
   "name": "python",
   "nbconvert_exporter": "python",
   "pygments_lexer": "ipython3",
   "version": "3.6.5"
  }
 },
 "nbformat": 4,
 "nbformat_minor": 2
}
