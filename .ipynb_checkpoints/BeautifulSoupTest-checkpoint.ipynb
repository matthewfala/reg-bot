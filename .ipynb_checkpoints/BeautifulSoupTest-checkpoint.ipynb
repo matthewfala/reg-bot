{
 "cells": [
  {
   "cell_type": "code",
   "execution_count": 1,
   "metadata": {},
   "outputs": [],
   "source": [
    "# Beautiful Soup Tests"
   ]
  },
  {
   "cell_type": "code",
   "execution_count": 2,
   "metadata": {},
   "outputs": [],
   "source": [
    "from bs4 import BeautifulSoup\n",
    "import requests"
   ]
  },
  {
   "cell_type": "code",
   "execution_count": 23,
   "metadata": {},
   "outputs": [
    {
     "name": "stdout",
     "output_type": "stream",
     "text": [
      "hi\n",
      "/idp/style/login.css\n",
      "{'rel': ['stylesheet'], 'type': 'text/css', 'href': '/idp/style/login.css'}\n",
      "[<a href=\"tel:+1-213-740-5555\">213‑740‑5555</a>, <a href=\"mailto:consult@usc.edu\">consult@usc.edu</a>]\n"
     ]
    },
    {
     "name": "stderr",
     "output_type": "stream",
     "text": [
      "C:\\ProgramData\\Anaconda3\\lib\\site-packages\\bs4\\__init__.py:181: UserWarning: No parser was explicitly specified, so I'm using the best available HTML parser for this system (\"lxml\"). This usually isn't a problem, but if you run this code on another system, or in a different virtual environment, it may use a different parser and behave differently.\n",
      "\n",
      "The code that caused this warning is on line 193 of the file C:\\ProgramData\\Anaconda3\\lib\\runpy.py. To get rid of this warning, change code that looks like this:\n",
      "\n",
      " BeautifulSoup(YOUR_MARKUP})\n",
      "\n",
      "to this:\n",
      "\n",
      " BeautifulSoup(YOUR_MARKUP, \"lxml\")\n",
      "\n",
      "  markup_type=markup_type))\n"
     ]
    }
   ],
   "source": [
    "s = requests.Session()\n",
    "page = s.get('https://my.usc.edu/')\n",
    "\n",
    "myusc = BeautifulSoup(page.content)\n",
    "head = myusc.head\n",
    "link = head.link\n",
    "print(\"hi\")\n",
    "print(link[\"href\"])\n",
    "print(link.attrs)\n",
    "print(myusc.find_all('a'))"
   ]
  },
  {
   "cell_type": "code",
   "execution_count": 42,
   "metadata": {},
   "outputs": [
    {
     "name": "stdout",
     "output_type": "stream",
     "text": [
      "html\n",
      "#####################################\n",
      "<html>\n",
      "<head>\n",
      "<meta charset=\"utf-8\"/>\n",
      "<meta content=\"width=device-width, initial-scale=1\" name=\"viewport\"/>\n",
      "<title>USC Shibboleth Single Sign-on - Loading Session State...</title>\n",
      "<!--[if lt IE 10]>\n",
      "\t <link rel=\"stylesheet\" media=\"all\" href=\"/idp/style/ie.css\">\n",
      "<![endif]-->\n",
      "<link href=\"/idp/style/login.css\" rel=\"stylesheet\" type=\"text/css\"/>\n",
      "<script>\n",
      "        <!--\n",
      "        \"use strict\";\n",
      "function readLocalStorage(key) {\n",
      "    var success;\n",
      "    try {\n",
      "        var value = localStorage.getItem(key);\n",
      "        if (value != null) {\n",
      "            document.form1[\"shib_idp_ls_value.\" + key].value = value;\n",
      "        }\n",
      "        success = \"true\";\n",
      "    } catch (e) {\n",
      "        success = \"false\";\n",
      "        document.form1[\"shib_idp_ls_exception.\" + key].value = e;\n",
      "    }\n",
      "    document.form1[\"shib_idp_ls_success.\" + key].value = success;\n",
      "}\n",
      "\n",
      "function isLocalStorageSupported() {\n",
      "    try {\n",
      "        localStorage.setItem(\"shib_idp_ls_test\", \"shib_idp_ls_test\");\n",
      "        localStorage.removeItem(\"shib_idp_ls_test\");\n",
      "        return true;\n",
      "    } catch (e) {\n",
      "        return false;\n",
      "    }\n",
      "}\n",
      "\n",
      "        function doLoad() {\n",
      "            var localStorageSupported = isLocalStorageSupported();\n",
      "            document.form1[\"shib_idp_ls_supported\"].value = localStorageSupported;\n",
      "            if (localStorageSupported) {\n",
      "                            readLocalStorage(\"shib_idp_session_ss\");\n",
      "                            readLocalStorage(\"shib_idp_persistent_ss\");\n",
      "                        }\n",
      "            document.form1.submit();\n",
      "        }\n",
      "        // -->\n",
      "        </script>\n",
      "</head>\n",
      "<body>\n",
      "<div class=\"wrapper\">\n",
      "<div class=\"container\">\n",
      "<div class=\"page-wrapper wait\">\n",
      "<div class=\"loading content-area\" id=\"loading\" style=\"display:none\">\n",
      "<p><strong>Please wait.</strong> We're loading your session data.</p>\n",
      "<div class=\"loader\"><div class=\"loader1\"></div><div class=\"loader2\"></div></div>\n",
      "</div>\n",
      "<div class=\"still-here content-area\" id=\"stillhere\" style=\"display:none\">\n",
      "<p><strong>You’re seeing this page because:</strong></p>\n",
      "<ul>\n",
      "<li>The USC Shibboleth Single Sign-on is currently overloaded</li>\n",
      "<li>You lost your internet connection while signing in.</li>\n",
      "</ul>\n",
      "<p>If you believe you’re seeing this message in error, please contact the ITS Customer Support Center at <a href=\"tel:+1-213-740-5555\">213‑740‑5555</a> or <a href=\"mailto:consult@usc.edu\">consult@usc.edu</a>.</p>\n",
      "</div>\n",
      "</div>\n",
      "<noscript>\n",
      "<div class=\"content\">\n",
      "                    Since your browser does not support JavaScript, you must press the Continue button once to proceed.\n",
      "                    </div>\n",
      "</noscript>\n",
      "<form action=\"/idp/profile/SAML2/Redirect/SSO?execution=e1s1\" method=\"post\" name=\"form1\">\n",
      "<input name=\"shib_idp_ls_exception.shib_idp_session_ss\" type=\"hidden\"/>\n",
      "<input name=\"shib_idp_ls_success.shib_idp_session_ss\" type=\"hidden\" value=\"false\"/>\n",
      "<input name=\"shib_idp_ls_value.shib_idp_session_ss\" type=\"hidden\"/>\n",
      "<input name=\"shib_idp_ls_exception.shib_idp_persistent_ss\" type=\"hidden\"/>\n",
      "<input name=\"shib_idp_ls_success.shib_idp_persistent_ss\" type=\"hidden\" value=\"false\"/>\n",
      "<input name=\"shib_idp_ls_value.shib_idp_persistent_ss\" type=\"hidden\"/>\n",
      "<input name=\"shib_idp_ls_supported\" type=\"hidden\"/>\n",
      "<input name=\"_eventId_proceed\" type=\"hidden\"/>\n",
      "<noscript>\n",
      "<input type=\"submit\" value=\"Continue\"/>\n",
      "</noscript>\n",
      "</form>\n",
      "</div>\n",
      "<footer>\n",
      "<div class=\"container container-footer\">\n",
      "<p class=\"footer-text\"></p>\n",
      "</div>\n",
      "</footer>\n",
      "</div>\n",
      "<!--[if lt IE 10]>\n",
      "        <script type=\"text/javascript\">window.onload=function(){doLoad();}</script>\n",
      "<![endif]-->\n",
      "<!--[if gte IE 10]><!-- -->\n",
      "<script type=\"text/javascript\">window.onload=function(){document.getElementById(\"loading\").style.display=\"block\";document.getElementById(\"loading\").className+=\" vanish\";document.getElementById(\"stillhere\").style.display=\"block\";document.getElementById(\"stillhere\").className+=\" appear\";doLoad();}</script>\n",
      "<!-- <![endif]-->\n",
      "</body>\n",
      "</html>\n",
      "#####################################\n",
      "\n",
      "\n",
      "#####################################\n",
      "3\n"
     ]
    }
   ],
   "source": [
    "x = 0\n",
    "for child in myusc.head.children:\n",
    "    print(child)\n",
    "    print(\"#####################################\")\n",
    "    x=x+1;\n",
    "    if x == 0:\n",
    "        y = 1\n",
    "        \n",
    "        #print(child)\n",
    "        \n",
    "    \n",
    "print(x)"
   ]
  },
  {
   "cell_type": "code",
   "execution_count": null,
   "metadata": {},
   "outputs": [],
   "source": []
  },
  {
   "cell_type": "code",
   "execution_count": null,
   "metadata": {},
   "outputs": [],
   "source": []
  },
  {
   "cell_type": "code",
   "execution_count": null,
   "metadata": {},
   "outputs": [],
   "source": []
  }
 ],
 "metadata": {
  "kernelspec": {
   "display_name": "Python [default]",
   "language": "python",
   "name": "python3"
  },
  "language_info": {
   "codemirror_mode": {
    "name": "ipython",
    "version": 3
   },
   "file_extension": ".py",
   "mimetype": "text/x-python",
   "name": "python",
   "nbconvert_exporter": "python",
   "pygments_lexer": "ipython3",
   "version": "3.6.5"
  }
 },
 "nbformat": 4,
 "nbformat_minor": 2
}
