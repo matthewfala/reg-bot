{
 "cells": [
  {
   "cell_type": "code",
   "execution_count": 53,
   "metadata": {},
   "outputs": [],
   "source": [
    "# Beautiful Soup Tests"
   ]
  },
  {
   "cell_type": "code",
   "execution_count": 54,
   "metadata": {},
   "outputs": [],
   "source": [
    "from bs4 import BeautifulSoup\n",
    "import lxml\n",
    "from lxml import html\n",
    "import requests"
   ]
  },
  {
   "cell_type": "code",
   "execution_count": 55,
   "metadata": {},
   "outputs": [],
   "source": [
    "with open(\"WebReg_ myCoursebin.html\") as fp:\n",
    "    soup = BeautifulSoup(fp, \"lxml\")"
   ]
  },
  {
   "cell_type": "code",
   "execution_count": 56,
   "metadata": {},
   "outputs": [],
   "source": [
    "class course:\n",
    "    def __init__(self, section, time, availible, scheduled, registered):\n",
    "        self.section = section\n",
    "        self.time = time\n",
    "        self.availible = availible\n",
    "        self.scheduled = scheduled\n",
    "        self.registered = registered\n",
    "        #print(\"Course \" + str(self.section) + \" created\")\n",
    "    def unschedule(self, s):\n",
    "        if self.scheduled:\n",
    "            domain = \"https://webreg.usc.edu\"\n",
    "            req = domain + \"/myCoursebin/SchdUnschRmv?act=UnSched&section=\" + self.section\n",
    "            s.get(req)\n",
    "            self.scheduled = False\n",
    "            print(\"Unscheduled with: \" + req)\n",
    "    def schedule(self, s):\n",
    "        if not self.scheduled:\n",
    "            domain = \"https://webreg.usc.edu\"\n",
    "            req = domain + \"/myCoursebin/SchdUnschRmv?act=Sched&section=\" + self.section\n",
    "            s.get(req)\n",
    "            self.scheduled = True\n",
    "            print(\"Scheduled with: \" + req)            \n"
   ]
  },
  {
   "cell_type": "code",
   "execution_count": 57,
   "metadata": {},
   "outputs": [],
   "source": [
    "# Login\n",
    "\n",
    "# Returns session\n",
    "def usc_auth(username, password):\n",
    "\n",
    "    s = requests.Session()\n",
    "    r = s.get('https://my.usc.edu/')\n",
    "\n",
    "    enter_page = lxml.html.fromstring(r.content)\n",
    "    form_1 = enter_page.xpath(\"//form[@name='form1']\")\n",
    "    #print form_1[0].attrib['action']\n",
    "\n",
    "    Query = \"https://shibboleth.usc.edu\" + form_1[0].attrib['action']\n",
    "    #print Query\n",
    "    payload = {'_eventId_proceed' : '', 'shib_idp_ls_exception.shib_idp_persistent_ss' : '',\n",
    "     'shib_idp_ls_exception.shib_idp_session_ss' : '',\n",
    "     'shib_idp_ls_success.shib_idp_persistent_ss' : 'false',\n",
    "     'shib_idp_ls_success.shib_idp_session_ss' : 'false',\n",
    "     'shib_idp_ls_supported' : '',\n",
    "     'shib_idp_ls_value.shib_idp_persistent_ss' : '',\n",
    "     'shib_idp_ls_value.shib_idp_session_ss': ''\n",
    "     }\n",
    "\n",
    "    bypass = s.post(Query, data=payload)\n",
    "\n",
    "    payload = {\n",
    "        '_eventId_proceed': '',\n",
    "        'j_password': password,\n",
    "        'j_username': username\n",
    "    }\n",
    "\n",
    "    login = s.post(bypass.url, data=payload)\n",
    "    tree = lxml.html.fromstring(login.content)\n",
    "\n",
    "    SAMLResponses = tree.xpath(\"//form//input[@name='SAMLResponse']\")\n",
    "    SAMLResponse = SAMLResponses[0].attrib['value']\n",
    "\n",
    "    payload = {'SAMLRequest':SAMLResponse}\n",
    "    login = s.post('https://my.usc.edu/portal/Shibboleth.sso/SAML2/POST', payload)\n",
    "\n",
    "    print (\"Are We Logged In? : \" + str(username in login.text))\n",
    "    if username not in login.text:\n",
    "        raise Exception(\"Login Error\")\n",
    "    return s"
   ]
  },
  {
   "cell_type": "code",
   "execution_count": 58,
   "metadata": {},
   "outputs": [],
   "source": [
    "\n",
    "# Poll Courses\n",
    "# get request to \"/myCoursebin/SchdUnschRmv?act=UnSched&section=<MYSECTION>\"\n",
    "\n",
    "def course_report(s):\n",
    "    r = s.get(\"https://webreg.usc.edu/myCourseBin\")\n",
    "    soup = BeautifulSoup(r.text, \"lxml\")\n",
    "    courses = set()\n",
    "    course_data0 = soup.find_all(class_=\"section_crsbin_alt0\")\n",
    "    course_data1 = soup.find_all(class_=\"section_crsbin_alt1\")\n",
    "    course_data2 = soup.find_all(class_=\"section_crsbin_alt2\")\n",
    "    \n",
    "    course_data = course_data0 + course_data1 + course_data2\n",
    "    \n",
    "    for c in course_data:\n",
    "        section_full = str(c.contents[3].contents[1].string)\n",
    "        section = section_full.split(' ',1)[0]\n",
    "\n",
    "        availible = \"Closed\" not in c.contents[11].contents[1].string  \n",
    "\n",
    "        time = c.contents[13].contents[1].string\n",
    "\n",
    "        status_sY_rN = \"block\" in c.contents[1].contents[2]['style']\n",
    "        status_sN_rN = \"block\" in c.contents[1].contents[4]['style']\n",
    "        status_sY_rY = \"block\" in c.contents[1].contents[6]['style']\n",
    "        status_sN_rY = \"block\" in c.contents[1].contents[8]['style']\n",
    "\n",
    "        if status_sY_rN:\n",
    "            scheduled = True\n",
    "            registered = False\n",
    "        elif status_sN_rN:\n",
    "            scheduled = False\n",
    "            registered = False\n",
    "        elif status_sY_rY:\n",
    "            scheduled = True\n",
    "            registered = True\n",
    "        elif status_sN_rY:\n",
    "            scheduled = False\n",
    "            registered = True\n",
    "        else:\n",
    "            print(\"An error has ouccured, course bin class \" + section + \" is corrupt\")\n",
    "\n",
    "        #print (\"Section: \" + section)\n",
    "        #print (\"Avalible: \" + str(availible))\n",
    "        #print (\"Time: \" + time)\n",
    "        #print (\"Scheduled: \" + str(scheduled))\n",
    "        #print (\"Registered: \" + str(registered))\n",
    "        courses.add(course(section, time, availible, scheduled, registered))\n",
    "        #print ()\n",
    "        \n",
    "    return courses   \n"
   ]
  },
  {
   "cell_type": "code",
   "execution_count": 59,
   "metadata": {},
   "outputs": [],
   "source": [
    "import pickle\n",
    "import os\n",
    "import re\n",
    "\n",
    "pickle_file = 'my_usc_session.pkl'\n",
    "term = 'spring' # Options, Spring Fall Summer\n",
    "\n",
    "home = 'https://my.usc.edu/'\n",
    "webreg_connect = 'https://my.usc.edu/portal/oasis/webregbridge.php'\n",
    "webreg = \"https://webreg.usc.edu/\"\n",
    "\n",
    "def new_saved_session(_pickle_file):\n",
    "    print(\"No pickle file, generating new session\")\n",
    "    with open(_pickle_file, 'wb') as output:\n",
    "        s = usc_auth(credentials.get_username(), credentials.get_password())\n",
    "        pickle.dump(s, output, pickle.HIGHEST_PROTOCOL)\n",
    "        print(\"Logged In\")\n",
    "\n",
    "\n",
    "def recover_session(_pickle_file):\n",
    "    with open(_pickle_file, 'rb') as myinput:\n",
    "        print(\"File exists! recovering session ...\")\n",
    "        recovered_s = pickle.load(myinput)\n",
    "        return recovered_s\n",
    "\n",
    "# returs session\n",
    "def webreg_login():\n",
    "    # Save and recover session\n",
    "    if not os.path.isfile(pickle_file):\n",
    "        new_saved_session(pickle_file)\n",
    "    try:\n",
    "        s = recover_session(pickle_file)\n",
    "    except:\n",
    "        print(\"Recovery failed.\")\n",
    "        s = new_saved_session(pickle_file)\n",
    "\n",
    "    terms_page = s.get(webreg_connect)\n",
    "\n",
    "    session_end_phrase = 'Your session has ended.'\n",
    "    session_ended = session_end_phrase in terms_page.text\n",
    "\n",
    "    if session_ended:\n",
    "        print(\"Session ended, forcing new session\")\n",
    "        # force new session\n",
    "        new_saved_session(pickle_file)\n",
    "        s = recover_session(pickle_file)\n",
    "        terms_page = s.get(webreg_connect)\n",
    "\n",
    "    tree = lxml.html.fromstring(terms_page.content)\n",
    "\n",
    "\n",
    "    if term == 'fall':\n",
    "        term_element = tree.xpath(\"//ul//li[@id='termmenuFall']/a\")\n",
    "    elif term == 'summer':\n",
    "        term_element = tree.xpath(\"//ul//li[@id='termmenuSumm']/a\")\n",
    "    elif term == 'spring':\n",
    "        term_element = tree.xpath(\"//ul//li[@id='termmenuSpr']/a\")\n",
    "\n",
    "    addr = webreg + term_element[0].attrib['href']\n",
    "    catalogue = s.get(addr)\n",
    "    return s"
   ]
  },
  {
   "cell_type": "code",
   "execution_count": 132,
   "metadata": {},
   "outputs": [],
   "source": [
    "def simplify_schedule(s, courses):\n",
    "    change_log = set()\n",
    "    for c in courses:\n",
    "        if c.registered:\n",
    "            if not c.scheduled:\n",
    "                c.schedule(s)\n",
    "                change_log.add((c, \"Scheduled\"))\n",
    "                \n",
    "        elif not c.registered:\n",
    "            if c.scheduled:\n",
    "                c.unschedule(s)\n",
    "                change_log.add((c, \"Unscheduled\"))\n",
    "                \n",
    "    return change_log\n",
    "\n",
    "def restore_schedule(s, change_log, ignore): \n",
    "    for c in change_log:\n",
    "        if c[0] in ignore:\n",
    "            print(\"Successfully ignored course\")\n",
    "            continue\n",
    "        if c[1] == \"Scheduled\":\n",
    "            c[0].unschedule(s)\n",
    "        elif c[1] == \"Unscheduled\":\n",
    "            c[0].schedule(s)\n",
    "\n",
    "def register(s):\n",
    "    payload = {\n",
    "        'Origin': 'https://webreg.usc.edu',\n",
    "        'Upgrade-Insecure-Requests': '1',\n",
    "    }\n",
    "    s.get(\"https://webreg.usc.edu/Register\")\n",
    "    r = s.post(\"https://webreg.usc.edu/RegResp\", data=payload)\n",
    "    # print(r.text)\n",
    "    if \"Registration Failed\" in r.text:\n",
    "        print(\"Registration failed\")\n",
    "    else:\n",
    "        print(\"Registration succeded\")\n",
    "        "
   ]
  },
  {
   "cell_type": "code",
   "execution_count": null,
   "metadata": {},
   "outputs": [],
   "source": []
  },
  {
   "cell_type": "code",
   "execution_count": 121,
   "metadata": {},
   "outputs": [
    {
     "name": "stdout",
     "output_type": "stream",
     "text": [
      "File exists! recovering session ...\n",
      "Done.\n"
     ]
    }
   ],
   "source": [
    "# Login\n",
    "import credentials\n",
    "\n",
    "#session = usc_auth(credentials.get_username(), credentials.get_password())\n",
    "session = webreg_login()\n",
    "report = course_report(session)\n",
    "#for c in report:\n",
    "#    print(c.section)\n",
    "print(\"Done.\")\n"
   ]
  },
  {
   "cell_type": "code",
   "execution_count": null,
   "metadata": {},
   "outputs": [],
   "source": []
  },
  {
   "cell_type": "code",
   "execution_count": 122,
   "metadata": {
    "scrolled": true
   },
   "outputs": [
    {
     "name": "stdout",
     "output_type": "stream",
     "text": [
      "Unscheduled with: https://webreg.usc.edu/myCoursebin/SchdUnschRmv?act=UnSched&section=14025\n"
     ]
    }
   ],
   "source": [
    "change_log = simplify_schedule(session, report)"
   ]
  },
  {
   "cell_type": "code",
   "execution_count": 123,
   "metadata": {},
   "outputs": [
    {
     "name": "stdout",
     "output_type": "stream",
     "text": [
      "Scheduled with: https://webreg.usc.edu/myCoursebin/SchdUnschRmv?act=Sched&section=14025\n"
     ]
    }
   ],
   "source": [
    "for e in change_log:\n",
    "    break\n",
    "restore_schedule(session, change_log, [])"
   ]
  },
  {
   "cell_type": "code",
   "execution_count": 139,
   "metadata": {},
   "outputs": [
    {
     "name": "stdout",
     "output_type": "stream",
     "text": [
      "Registrar init\n",
      "Report len 22\n",
      "Unscheduled with: https://webreg.usc.edu/myCoursebin/SchdUnschRmv?act=UnSched&section=11864\n",
      "Unscheduled with: https://webreg.usc.edu/myCoursebin/SchdUnschRmv?act=UnSched&section=10202\n",
      "Unscheduled with: https://webreg.usc.edu/myCoursebin/SchdUnschRmv?act=UnSched&section=14025\n",
      "Unscheduled with: https://webreg.usc.edu/myCoursebin/SchdUnschRmv?act=UnSched&section=11863\n",
      "2\n",
      "11863\n",
      "Scheduled with: https://webreg.usc.edu/myCoursebin/SchdUnschRmv?act=Sched&section=11863\n",
      "11864\n",
      "Scheduled with: https://webreg.usc.edu/myCoursebin/SchdUnschRmv?act=Sched&section=11864\n",
      "Attempting registration ...\n",
      "Registration succeded\n",
      "Reg Courses Size: 2\n",
      "Successfully ignored course\n",
      "Successfully ignored course\n",
      "Scheduled with: https://webreg.usc.edu/myCoursebin/SchdUnschRmv?act=Sched&section=10202\n",
      "Scheduled with: https://webreg.usc.edu/myCoursebin/SchdUnschRmv?act=Sched&section=14025\n"
     ]
    }
   ],
   "source": [
    "class registrar:\n",
    "    def __init__(self, desirable_combos):\n",
    "        self.desirable_combos = desirable_combos\n",
    "        print (\"Registrar init\")\n",
    "    \n",
    "    def auto_reg(self, s):\n",
    "        report = course_report(s)\n",
    "        print(\"Report len \" + str(len(report)) )\n",
    "        reg_courses = self.find_courses(report, self.target_sections)\n",
    "        self.attempt_reg(s, reg_courses, report)\n",
    "        \n",
    "    def attempt_reg(self, s, reg_courses, all_courses):\n",
    "        \n",
    "        # setup\n",
    "        change_log = simplify_schedule(s, all_courses)\n",
    "        reg_needed = False;\n",
    "        print(len(reg_courses))\n",
    "        # add courses\n",
    "        for course in reg_courses:\n",
    "            print(course.section)\n",
    "            if course.availible and not course.registered:\n",
    "                course.schedule(s)\n",
    "                reg_needed = True\n",
    "        \n",
    "        # register\n",
    "        if reg_needed:\n",
    "            print(\"Attempting registration ...\")\n",
    "            register(s)\n",
    "            \n",
    "                \n",
    "        # cleanup\n",
    "        print(\"Reg Courses Size: \" + str(len(reg_courses)))\n",
    "        restore_schedule(s, change_log, reg_courses)\n",
    "        \n",
    "    def find_courses(self, all_courses, sections):\n",
    "        courses = set()\n",
    "        for c in all_courses:\n",
    "            if int(c.section) in sections:\n",
    "                courses.add(c)\n",
    "        return courses\n",
    "\n",
    "reg = registrar({{[39625], [39626, 39627]}})\n",
    "\n",
    "#\n",
    "{{[], []} {} {} } \n",
    "#desired->requirements, choose 1 of each, priority to smaller indexs\n",
    "reg.auto_reg(session)"
   ]
  },
  {
   "cell_type": "code",
   "execution_count": 20,
   "metadata": {},
   "outputs": [
    {
     "name": "stdout",
     "output_type": "stream",
     "text": [
      "False\n"
     ]
    }
   ],
   "source": [
    "for c in report:\n",
    "    if int(c.section) == 49448:\n",
    "        print(c.scheduled)\n",
    "        "
   ]
  },
  {
   "cell_type": "code",
   "execution_count": null,
   "metadata": {},
   "outputs": [],
   "source": []
  }
 ],
 "metadata": {
  "kernelspec": {
   "display_name": "Python [default]",
   "language": "python",
   "name": "python3"
  },
  "language_info": {
   "codemirror_mode": {
    "name": "ipython",
    "version": 3
   },
   "file_extension": ".py",
   "mimetype": "text/x-python",
   "name": "python",
   "nbconvert_exporter": "python",
   "pygments_lexer": "ipython3",
   "version": "3.6.5"
  }
 },
 "nbformat": 4,
 "nbformat_minor": 2
}
